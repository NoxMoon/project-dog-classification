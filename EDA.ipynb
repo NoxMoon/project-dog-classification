{
 "cells": [
  {
   "cell_type": "code",
   "execution_count": 8,
   "metadata": {},
   "outputs": [
    {
     "data": {
      "image/png": "[encoded data removed]",
      "text/plain": [
       "<Figure size 432x288 with 1 Axes>"
      ]
     },
     "metadata": {
      "needs_background": "light"
     },
     "output_type": "display_data"
    }
   ],
   "source": [
    "import glob, os\n",
    "import matplotlib.pyplot as plt\n",
    "nimage = []\n",
    "for c in os.listdir(\"dogImages/train\"):\n",
    "    files = glob.glob(f\"dogImages/train/{c}/*\")\n",
    "    nimage.append(len(files))\n",
    "    \n",
    "plt.hist(nimage)\n",
    "plt.xlabel(\"number of images in one class\")\n",
    "plt.ylabel(\"number of classes\")\n",
    "plt.savefig(\"eda/number_of_images_per_class.png\")\n",
    "plt.show()"
   ]
  },
  {
   "cell_type": "markdown",
   "metadata": {},
   "source": [
    "![](\"eda/test.png\")"
   ]
  },
  {
   "cell_type": "code",
   "execution_count": null,
   "metadata": {},
   "outputs": [],
   "source": []
  }
 ],
 "metadata": {
  "kernelspec": {
   "display_name": "Python 3",
   "language": "python",
   "name": "python3"
  },
  "language_info": {
   "codemirror_mode": {
    "name": "ipython",
    "version": 3
   },
   "file_extension": ".py",
   "mimetype": "text/x-python",
   "name": "python",
   "nbconvert_exporter": "python",
   "pygments_lexer": "ipython3",
   "version": "3.6.9"
  }
 },
 "nbformat": 4,
 "nbformat_minor": 4
}
